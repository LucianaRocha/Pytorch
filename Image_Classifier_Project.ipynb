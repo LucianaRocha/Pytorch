{
  "nbformat": 4,
  "nbformat_minor": 0,
  "metadata": {
    "colab": {
      "name": "Image Classifier Project.ipynb",
      "version": "0.3.2",
      "provenance": [],
      "collapsed_sections": []
    },
    "kernelspec": {
      "name": "python3",
      "display_name": "Python 3"
    },
    "accelerator": "GPU"
  },
  "cells": [
    {
      "metadata": {
        "id": "bWTRCXJhf9_I",
        "colab_type": "text"
      },
      "cell_type": "markdown",
      "source": [
        "# Developing an AI application\n",
        "\n",
        "Going forward, AI algorithms will be incorporated into more and more everyday applications. For example, you might want to include an image classifier in a smart phone app. To do this, you'd use a deep learning model trained on hundreds of thousands of images as part of the overall application architecture. A large part of software development in the future will be using these types of models as common parts of applications. \n",
        "\n",
        "In this project, you'll train an image classifier to recognize different species of flowers. You can imagine using something like this in a phone app that tells you the name of the flower your camera is looking at. In practice you'd train this classifier, then export it for use in your application. We'll be using [this dataset](http://www.robots.ox.ac.uk/~vgg/data/flowers/102/index.html) of 102 flower categories, you can see a few examples below. \n",
        "\n",
        "<img src='assets/Flowers.png' width=500px>\n",
        "\n",
        "The project is broken down into multiple steps:\n",
        "\n",
        "* Load and preprocess the image dataset\n",
        "* Train the image classifier on your dataset\n",
        "* Use the trained classifier to predict image content\n",
        "\n",
        "We'll lead you through each part which you'll implement in Python.\n",
        "\n",
        "When you've completed this project, you'll have an application that can be trained on any set of labeled images. Here your network will be learning about flowers and end up as a command line application. But, what you do with your new skills depends on your imagination and effort in building a dataset. For example, imagine an app where you take a picture of a car, it tells you what the make and model is, then looks up information about it. Go build your own dataset and make something new.\n",
        "\n",
        "First up is importing the packages you'll need. It's good practice to keep all the imports at the beginning of your code. As you work through this notebook and find you need to import a package, make sure to add the import up here."
      ]
    },
    {
      "metadata": {
        "id": "7yT7egC0hFmN",
        "colab_type": "code",
        "colab": {}
      },
      "cell_type": "code",
      "source": [
        "## import Pytorch ##############################################################\n",
        "running_on_google_colab = True\n",
        "\n",
        "if running_on_google_colab:\n",
        "  from os.path import exists\n",
        "  from wheel.pep425tags import get_abbr_impl, get_impl_ver, get_abi_tag\n",
        "  platform = '{}{}-{}'.format(get_abbr_impl(), get_impl_ver(), get_abi_tag())\n",
        "  cuda_output = !ldconfig -p|grep cudart.so|sed -e 's/.*\\.\\([0-9]*\\)\\.\\([0-9]*\\)$/cu\\1\\2/'\n",
        "  accelerator = cuda_output[0] if exists('/dev/nvidia0') else 'cpu'\n",
        "\n",
        "  !pip install -q http://download.pytorch.org/whl/{accelerator}/torch-0.4.1-{platform}-linux_x86_64.whl torchvision\n",
        "  \n",
        "  !pip install Pillow==4.1.1"
      ],
      "execution_count": 0,
      "outputs": []
    },
    {
      "metadata": {
        "id": "YUJrszjLhIVd",
        "colab_type": "code",
        "colab": {}
      },
      "cell_type": "code",
      "source": [
        "## Upload Flower_data.zip#######################################################\n",
        "!wget https://raw.githubusercontent.com/udacity/pytorch_challenge/master/cat_to_name.json\n",
        "!wget https://s3.amazonaws.com/content.udacity-data.com/courses/nd188/flower_data.zip\n",
        "!unzip flower_data.zip"
      ],
      "execution_count": 0,
      "outputs": []
    },
    {
      "metadata": {
        "id": "YsONSPOff9_I",
        "colab_type": "code",
        "colab": {}
      },
      "cell_type": "code",
      "source": [
        "## Imports here ################################################################\n",
        "%matplotlib inline\n",
        "%config InlineBackend.figure_format = 'retina'\n",
        "\n",
        "import matplotlib.pyplot as plt\n",
        "import torch\n",
        "from torch import nn\n",
        "from torch import optim\n",
        "import torch.nn.functional as F\n",
        "from torchvision import datasets, transforms\n",
        "import numpy as np\n",
        "import torchvision.models as models\n",
        "import time\n",
        "from datetime import datetime\n",
        "from torch.utils.data.sampler import SubsetRandomSampler\n",
        "from collections import OrderedDict\n",
        "import torchvision.models as models\n",
        "\n",
        "#densenet121=models.densenet121(pretrained=True)\n",
        "densenet161 = models.densenet161(pretrained=True)\n",
        "#resnet152 = models.resnet152(pretrained=True)"
      ],
      "execution_count": 0,
      "outputs": []
    },
    {
      "metadata": {
        "id": "qDhXmkwIqYn1",
        "colab_type": "code",
        "colab": {}
      },
      "cell_type": "code",
      "source": [
        ""
      ],
      "execution_count": 0,
      "outputs": []
    },
    {
      "metadata": {
        "id": "63oRIwsPf9_M",
        "colab_type": "text"
      },
      "cell_type": "markdown",
      "source": [
        "## Load the data\n",
        "\n",
        "Here you'll use `torchvision` to load the data ([documentation](http://pytorch.org/docs/0.3.0/torchvision/index.html)). You can [download the data here](https://s3.amazonaws.com/content.udacity-data.com/courses/nd188/flower_data.zip). The dataset is split into two parts, training and validation. For the training, you'll want to apply transformations such as random scaling, cropping, and flipping. This will help the network generalize leading to better performance. If you use a pre-trained network, you'll also need to make sure the input data is resized to 224x224 pixels as required by the networks.\n",
        "\n",
        "The validation set is used to measure the model's performance on data it hasn't seen yet. For this you don't want any scaling or rotation transformations, but you'll need to resize then crop the images to the appropriate size.\n",
        "\n",
        "The pre-trained networks available from `torchvision` were trained on the ImageNet dataset where each color channel was normalized separately. For both sets you'll need to normalize the means and standard deviations of the images to what the network expects. For the means, it's `[0.485, 0.456, 0.406]` and for the standard deviations `[0.229, 0.224, 0.225]`, calculated from the ImageNet images.  These values will shift each color channel to be centered at 0 and range from -1 to 1."
      ]
    },
    {
      "metadata": {
        "id": "xh-MOIXhf9_M",
        "colab_type": "code",
        "colab": {}
      },
      "cell_type": "code",
      "source": [
        "data_dir =  'flower_data'\n",
        "train_dir = '/train'\n",
        "valid_dir = '/valid'"
      ],
      "execution_count": 0,
      "outputs": []
    },
    {
      "metadata": {
        "id": "bmY_Rghinb_E",
        "colab_type": "code",
        "colab": {}
      },
      "cell_type": "code",
      "source": [
        "# Define your transforms for the training and validation sets\n",
        "mean =  np.array([0.229, 0.224, 0.225])\n",
        "std = np.array([0.485, 0.456, 0.406])\n",
        "batch_size=91\n",
        "num_workers=32\n",
        "\n",
        "# percentage of training set to use as validation\n",
        "valid_size = 0.5\n",
        "\n",
        "train_transforms = transforms.Compose([transforms.RandomRotation(30),\n",
        "                                       transforms.RandomResizedCrop(224),\n",
        "                                       transforms.RandomHorizontalFlip(),\n",
        "                                       transforms.ToTensor(),\n",
        "                                       transforms.Normalize(mean,\n",
        "                                                            std)])\n",
        "valid_transforms = transforms.Compose([transforms.RandomResizedCrop(224),\n",
        "                                       transforms.ToTensor(),\n",
        "                                       transforms.Normalize(mean,\n",
        "                                                            std)])\n",
        "\n",
        "# Load the datasets with ImageFolder\n",
        "train_set = datasets.ImageFolder(data_dir + '/train', transform=train_transforms)\n",
        "valid_set = datasets.ImageFolder(data_dir + '/valid', transform=valid_transforms)\n",
        "\n",
        "# obtain validation indices that will be used for test     #####################\n",
        "num_valid = len(valid_set)\n",
        "indices = list(range(num_valid))\n",
        "np.random.shuffle(indices)\n",
        "split = int(np.floor(valid_size * num_valid))\n",
        "valid_idx, test_idx = indices[split:], indices[:split]\n",
        "\n",
        "# define samplers for obtaining training and validation batches ################\n",
        "valid_sampler = SubsetRandomSampler(valid_idx)\n",
        "test_sampler = SubsetRandomSampler(test_idx)\n",
        "\n",
        "# Using the image datasets and the trainforms, define the dataloaders ##########\n",
        "# Define batchs = 72 --> 6552/72 --> batch_size = 91 images\n",
        "train_loader = torch.utils.data.DataLoader(train_set, batch_size=batch_size, num_workers=num_workers, shuffle=True)\n",
        "valid_loader = torch.utils.data.DataLoader(valid_set, batch_size=batch_size, num_workers=num_workers, shuffle=False, sampler=valid_sampler)\n",
        "test_loader  = torch.utils.data.DataLoader(valid_set, batch_size=batch_size, num_workers=num_workers, shuffle=False, sampler=test_sampler)"
      ],
      "execution_count": 0,
      "outputs": []
    },
    {
      "metadata": {
        "colab_type": "code",
        "id": "ZAtRHqcwxNhq",
        "colab": {}
      },
      "cell_type": "code",
      "source": [
        "## Show images in train_loader\n",
        "def imshow(image, ax=None, title=None):\n",
        "    \"\"\"Imshow for Tensor.\"\"\"\n",
        "    if ax is None:\n",
        "        fig, ax = plt.subplots()\n",
        "    \n",
        "    # PyTorch tensors assume the color channel is the first dimension\n",
        "    # but matplotlib assumes is the third dimension\n",
        "    image = image.numpy().transpose((1, 2, 0))\n",
        "    \n",
        "    # Undo preprocessing\n",
        "    image = std * image + mean\n",
        "    \n",
        "    # Image needs to be clipped between 0 and 1 or it looks like noise when displayed\n",
        "    image = np.clip(image, 0, 1)\n",
        "    \n",
        "    ax.imshow(image)\n",
        "    ax.set_title(title)\n",
        "    \n",
        "    return ax"
      ],
      "execution_count": 0,
      "outputs": []
    },
    {
      "metadata": {
        "id": "hDkA5vwFBNUu",
        "colab_type": "code",
        "colab": {}
      },
      "cell_type": "code",
      "source": [
        "# Verify data_train\n",
        "images, labels = next(iter(train_loader))\n",
        "imshow(images[1],title=labels[1].item())"
      ],
      "execution_count": 0,
      "outputs": []
    },
    {
      "metadata": {
        "id": "Fnd9JO2tf9_R",
        "colab_type": "text"
      },
      "cell_type": "markdown",
      "source": [
        "### Label mapping\n",
        "\n",
        "You'll also need to load in a mapping from category label to category name. You can find this in the file `cat_to_name.json`. It's a JSON object which you can read in with the [`json` module](https://docs.python.org/2/library/json.html). This will give you a dictionary mapping the integer encoded categories to the actual names of the flowers."
      ]
    },
    {
      "metadata": {
        "colab_type": "code",
        "id": "y4be8MPlNtRO",
        "colab": {}
      },
      "cell_type": "code",
      "source": [
        "# Verify data_train\n",
        "############## 1\n",
        "import json\n",
        "with open('cat_to_name.json', 'r') as f:\n",
        "    cat_to_name = json.load(f)\n",
        "print(cat_to_name)\n",
        "  \n",
        "############## 2    \n",
        "class_to_idx = train_set.class_to_idx    \n",
        "print(class_to_idx)   \n",
        "\n",
        "############## 3 \n",
        "cat_label_to_name = {}\n",
        "for cat, label in class_to_idx.items():\n",
        "  name = cat_to_name.get(cat)\n",
        "  cat_label_to_name[label] = name\n",
        "  \n",
        "print(cat_label_to_name)  \n",
        "\n",
        "############## 4 \n",
        "cat_position = {}\n",
        "for key, value in class_to_idx.items():\n",
        "  cat_position[value] = key # para adicionar chave e valor no dict\n",
        "\n",
        "print(cat_position)  "
      ],
      "execution_count": 0,
      "outputs": []
    },
    {
      "metadata": {
        "id": "Ud82rNVrbozD",
        "colab_type": "code",
        "colab": {}
      },
      "cell_type": "code",
      "source": [
        "# Verify data_train ############## amostra teste\n",
        "\n",
        "images, labels = next(iter(train_loader))\n",
        "label = labels[1].item()\n",
        "title = f'Position: {labels[1].item()}\\n Folder: {cat_position[label]}\\n Flower Name: {cat_label_to_name[label].title()}'\n",
        "imshow(images[1],title=title)"
      ],
      "execution_count": 0,
      "outputs": []
    },
    {
      "metadata": {
        "id": "DN76tswnrViv",
        "colab_type": "code",
        "colab": {}
      },
      "cell_type": "code",
      "source": [
        "# change this to the trainloader or testloader \n",
        "data_iter = iter(train_loader)\n",
        "images, labels = data_iter.next()\n",
        "\n",
        "#images = images.numpy() # convert images to numpy for display\n",
        "fig = plt.figure(figsize=(20, 9))\n",
        "nrows, ncols = 2, 5\n",
        "\n",
        "for index in np.arange(nrows*ncols):\n",
        "  img = images[index]\n",
        "  \n",
        "  label = labels[index].item()\n",
        "  title = f'Position: {labels[index].item()}\\n Folder: {cat_position[label]}\\n Name Flower: {cat_label_to_name[label].title()}'\n",
        "  ax = fig.add_subplot(nrows, ncols, index+1, xticks=[], yticks=[])\n",
        "  imshow(img,title=title,ax=ax)"
      ],
      "execution_count": 0,
      "outputs": []
    },
    {
      "metadata": {
        "id": "a9yRhKpdf9_U",
        "colab_type": "text"
      },
      "cell_type": "markdown",
      "source": [
        "# Building and training the classifier\n",
        "\n",
        "Now that the data is ready, it's time to build and train the classifier. As usual, you should use one of the pretrained models from `torchvision.models` to get the image features. Build and train a new feed-forward classifier using those features.\n",
        "\n",
        "We're going to leave this part up to you. If you want to talk through it with someone, chat with your fellow students! You can also ask questions on the forums or join the instructors in office hours.\n",
        "\n",
        "Refer to [the rubric](https://review.udacity.com/#!/rubrics/1663/view) for guidance on successfully completing this section. Things you'll need to do:\n",
        "\n",
        "* Load a [pre-trained network](http://pytorch.org/docs/master/torchvision/models.html) (If you need a starting point, the VGG networks work great and are straightforward to use)\n",
        "* Define a new, untrained feed-forward network as a classifier, using ReLU activations and dropout\n",
        "* Train the classifier layers using backpropagation using the pre-trained network to get the features\n",
        "* Track the loss and accuracy on the validation set to determine the best hyperparameters\n",
        "\n",
        "We've left a cell open for you below, but use as many as you need. Our advice is to break the problem up into smaller parts you can run separately. Check that each part is doing what you expect, then move on to the next. You'll likely find that as you work through each part, you'll need to go back and modify your previous code. This is totally normal!\n",
        "\n",
        "When training make sure you're updating only the weights of the feed-forward network. You should be able to get the validation accuracy above 70% if you build everything right. Make sure to try different hyperparameters (learning rate, units in the classifier, epochs, etc) to find the best model. Save those hyperparameters to use as default values in the next part of the project."
      ]
    },
    {
      "metadata": {
        "id": "DWyz1-3Lf9_V",
        "colab_type": "code",
        "colab": {}
      },
      "cell_type": "code",
      "source": [
        "# Part 1: Pretrained Network\n",
        "# TODO: Build and train your network\n",
        "model    = densenet161"
      ],
      "execution_count": 0,
      "outputs": []
    },
    {
      "metadata": {
        "id": "wo7WBwFFoiFD",
        "colab_type": "code",
        "colab": {}
      },
      "cell_type": "code",
      "source": [
        "model"
      ],
      "execution_count": 0,
      "outputs": []
    },
    {
      "metadata": {
        "id": "5bsPcra8kWKA",
        "colab_type": "code",
        "colab": {}
      },
      "cell_type": "code",
      "source": [
        "def Net_L(in_size,ou_size,hd_size,dp_prob=0.5):\n",
        "  dict=OrderedDict()\n",
        "  dict['input'] = nn.Linear(in_size, hd_size, bias=True)\n",
        "  dict['relu'] = nn.ReLU()\n",
        "  dict['dropout'] = nn.Dropout(dp_prob)\n",
        "  dict['output'] = nn.Linear(hd_size, ou_size, bias=True)\n",
        "  dict['Log'] = nn.LogSoftmax(dim=1)\n",
        "  \n",
        "  return nn.Sequential(dict)"
      ],
      "execution_count": 0,
      "outputs": []
    },
    {
      "metadata": {
        "id": "dcE2RU8i2_fg",
        "colab_type": "code",
        "colab": {}
      },
      "cell_type": "code",
      "source": [
        "# Part 1: Feedforward Classifier ################### não mexer\n",
        "\n",
        "# Hyperparameters for our network\n",
        "in_size = 2208  # features\n",
        "ou_size = 102  # output\n",
        "dp_prob = 0.2   # Dropout module with 0.2 drop probability\n",
        "hd_size = 1000  # features\n",
        "lr      = 0.07 # learning_rate \n",
        "mom     = 0.9\n",
        "adam        = optim.Adam(model.classifier.parameters(), lr=lr) # optimizer = optim.Adam(model.classifier.parameters(), lr=0.003)\n",
        "opt         = optim.SGD(model.classifier.parameters(), lr=lr)\n",
        "mom         = optim.SGD(model.classifier.parameters(), lr=lr, momentum=mom)\n",
        "criterion_n = nn.NLLLoss()\n",
        "criterion_c = nn.CrossEntropyLoss()\n",
        "\n",
        "# Use GPU if it's available\n",
        "device = torch.device(\"cuda\" if torch.cuda.is_available() else \"cpu\")\n",
        "\n",
        "# Freeze parameters\n",
        "for param in model.parameters(): \n",
        "    param.requires_grad = False\n",
        "\n",
        "# Update classifier\n",
        "model.classifier = Net_L(in_size,ou_size,hd_size,dp_prob)\n",
        "\n",
        "criterion = nn.NLLLoss()    \n",
        "model.to(device);\n",
        "optimizer = optim.Adamax(model.classifier.parameters())\n",
        "#optimizer = optim.SGD(model.classifier.parameters(),lr=0.01)\n",
        "#optimizer = optim.SGD(model.classifier.parameters(),lr=0.01, momentum=0.9)"
      ],
      "execution_count": 0,
      "outputs": []
    },
    {
      "metadata": {
        "id": "jxTKdYk3Oybh",
        "colab_type": "code",
        "outputId": "39d0e3f5-ba09-4f35-a950-29b726fa8ea1",
        "colab": {
          "base_uri": "https://localhost:8080/",
          "height": 50
        }
      },
      "cell_type": "code",
      "source": [
        "# Part 1: Training the network\n",
        "# Hyperparameters for training network\n",
        "\n",
        "epochs = 2                # epochs\n",
        "steps = 0                 # steps\n",
        "running_loss = 0          # loss\n",
        "print_every = 72          # print\n",
        "\n",
        "    \n",
        "    ###################\n",
        "    # train           #\n",
        "    ###################\n",
        "train_losses, valid_losses, accuracy_losses = [], [], []\n",
        "\n",
        "for epoch in range(epochs):\n",
        "    for images, labels in train_loader:\n",
        "        steps += 1\n",
        "        if epoch ==0:\n",
        "          start = datetime.now()       \n",
        "        \n",
        "        # Move input and label tensors to the default device\n",
        "        images, labels = images.to(device), labels.to(device)        \n",
        "        \n",
        "        optimizer.zero_grad()\n",
        "        \n",
        "        logps = model.forward(images)\n",
        "        loss = criterion(logps, labels)\n",
        "        loss.backward()\n",
        "        optimizer.step()\n",
        "\n",
        "        running_loss += loss.item()\n",
        "    \n",
        "    ###################\n",
        "    # valid           #\n",
        "    ###################        \n",
        "        if steps % print_every == 0:\n",
        "            valid_loss = 0\n",
        "            accuracy = 0\n",
        "            model.eval()  # turn dropout off to valid_loader\n",
        "            with torch.no_grad():\n",
        "                for images, labels in valid_loader:\n",
        "                    images, labels = images.to(device), labels.to(device)\n",
        "                    logps = model.forward(images)\n",
        "                    batch_loss = criterion(logps, labels)\n",
        "                    \n",
        "                    valid_loss += batch_loss.item()\n",
        "                    \n",
        "                    # Calculate accuracy\n",
        "                    ps = torch.exp(logps)\n",
        "                    top_p, top_class = ps.topk(1, dim=1)\n",
        "                    equals = top_class == labels.view(*top_class.shape)\n",
        "                    accuracy += torch.mean(equals.type(torch.FloatTensor)).item()\n",
        "                    \n",
        "            train_losses.append(running_loss/len(train_loader))\n",
        "            valid_losses.append(valid_loss/len(valid_loader))         \n",
        "            accuracy_losses.append(accuracy/len(valid_loader))\n",
        "\n",
        "            if epoch == 19:\n",
        "              end_f = datetime.now()\n",
        "              \n",
        "            print(f\"Epoch {epoch+1}/{epochs}.. \"\n",
        "                  f\"Train loss: {running_loss/print_every:.3f}.. \"\n",
        "                  f\"Valid loss: {valid_loss/len(valid_loader):.3f}.. \"\n",
        "                  f\"Accuracy: {(accuracy/len(valid_loader)*100):.3f} %\")\n",
        "                  \n",
        "            running_loss = 0\n",
        "            model.train()"
      ],
      "execution_count": 11,
      "outputs": [
        {
          "output_type": "stream",
          "text": [
            "Epoch 1/2.. Train loss: 3.114.. Valid loss: 1.754.. Accuracy: 65.001 %\n",
            "Epoch 2/2.. Train loss: 1.315.. Valid loss: 0.943.. Accuracy: 81.724 %\n"
          ],
          "name": "stdout"
        }
      ]
    },
    {
      "metadata": {
        "id": "2uS8r0y4ihM_",
        "colab_type": "code",
        "colab": {}
      },
      "cell_type": "code",
      "source": [
        "print(start)\n",
        "print(end_f)\n",
        "\n",
        "print(end_f-start)"
      ],
      "execution_count": 0,
      "outputs": []
    },
    {
      "metadata": {
        "id": "DI5giL4-Rnty",
        "colab_type": "code",
        "colab": {}
      },
      "cell_type": "code",
      "source": [
        "plt.title('Model: densenet161 \\n Epochs = 40 \\n Optimizer = Adamax  and mom=  \\n dropout = 0.2 and Time = 51 min', fontsize=15)\n",
        "\n",
        "plt.ylabel('Losses')\n",
        "plt.xlabel('Epochs')\n",
        "plt.plot(train_losses, label='Training loss')\n",
        "plt.plot(valid_losses, label='Validation loss')\n",
        "plt.plot(accuracy_losses, label='Accuracy')\n",
        "plt.legend(frameon=False)      \n",
        "plt.grid(True)"
      ],
      "execution_count": 0,
      "outputs": []
    },
    {
      "metadata": {
        "id": "dJ1yWbXDPJWF",
        "colab_type": "code",
        "colab": {}
      },
      "cell_type": "code",
      "source": [
        "  \n",
        "    ###################\n",
        "    # test            #\n",
        "    ###################\n",
        "\n",
        "    \n",
        "    "
      ],
      "execution_count": 0,
      "outputs": []
    },
    {
      "metadata": {
        "id": "vdPdo5Rkf9_X",
        "colab_type": "text"
      },
      "cell_type": "markdown",
      "source": [
        "## Save the checkpoint\n",
        "\n",
        "Now that your network is trained, save the model so you can load it later for making predictions. You probably want to save other things such as the mapping of classes to indices which you get from one of the image datasets: `image_datasets['train'].class_to_idx`. You can attach this to the model as an attribute which makes inference easier later on.\n",
        "\n",
        "```model.class_to_idx = image_datasets['train'].class_to_idx```\n",
        "\n",
        "Remember that you'll want to completely rebuild the model later so you can use it for inference. Make sure to include any information you need in the checkpoint. If you want to load the model and keep training, you'll want to save the number of epochs as well as the optimizer state, `optimizer.state_dict`. You'll likely want to use this trained model in the next part of the project, so best to save it now."
      ]
    },
    {
      "metadata": {
        "id": "UaVDFK-Ef9_Y",
        "colab_type": "code",
        "colab": {}
      },
      "cell_type": "code",
      "source": [
        "# TODO: Save the checkpoint \n",
        "\n",
        "print(\"Our model: \\n\\n\", model, '\\n')\n",
        "#print(\"The state dict keys: \\n\\n\", model.state_dict().keys())"
      ],
      "execution_count": 0,
      "outputs": []
    },
    {
      "metadata": {
        "id": "BVkLjFdncdu7",
        "colab_type": "code",
        "colab": {}
      },
      "cell_type": "code",
      "source": [
        "# Save state the dict\n",
        "torch.save(model.state_dict(), 'checkpoint.pth')\n",
        "state_dict = torch.load('checkpoint.pth')\n",
        "print(state_dict.keys())"
      ],
      "execution_count": 0,
      "outputs": []
    },
    {
      "metadata": {
        "id": "sLzCLjSqOJbh",
        "colab_type": "code",
        "colab": {}
      },
      "cell_type": "code",
      "source": [
        "checkpoint = {'in_size': 2208,\n",
        "              'ou_size': 102,\n",
        "              'hd_size': 1000,\n",
        "              'dp_prob': 0.5,\n",
        "              'state_dict': model.state_dict()}\n",
        "\n",
        "torch.save(checkpoint, 'checkpoint.pth')"
      ],
      "execution_count": 0,
      "outputs": []
    },
    {
      "metadata": {
        "id": "gk92oAT7k93-",
        "colab_type": "code",
        "colab": {}
      },
      "cell_type": "code",
      "source": [
        "model.classifier = Net_L(checkpoint['in_size'],checkpoint['ou_size'],checkpoint['hd_size'],checkpoint['dp_prob'])"
      ],
      "execution_count": 0,
      "outputs": []
    },
    {
      "metadata": {
        "id": "VF5ZEN7Hh1FJ",
        "colab_type": "code",
        "colab": {}
      },
      "cell_type": "code",
      "source": [
        "def load_checkpoint(filepath):\n",
        "    checkpoint = torch.load(filepath)\n",
        "    model.classifier = nn.Sequential(nn.Linear(fc1_in_size, fc1_ou_size, bias=bias_T),\n",
        "                                     nn.ReLU(),\n",
        "                                     nn.Dropout(fc1_dp_prob),\n",
        "                                     nn.Linear(fc2_in_size, fc2_ou_size, bias=bias_T),\n",
        "                                     nn.LogSoftmax(dim=1))\n",
        "    model.load_state_dict(checkpoint['state_dict'])\n",
        "    \n",
        "    return model"
      ],
      "execution_count": 0,
      "outputs": []
    },
    {
      "metadata": {
        "id": "X_DnUNUFh_N_",
        "colab_type": "code",
        "colab": {}
      },
      "cell_type": "code",
      "source": [
        "model"
      ],
      "execution_count": 0,
      "outputs": []
    },
    {
      "metadata": {
        "id": "jVdygS7Xf9_b",
        "colab_type": "text"
      },
      "cell_type": "markdown",
      "source": [
        "## Loading the checkpoint\n",
        "\n",
        "At this point it's good to write a function that can load a checkpoint and rebuild the model. That way you can come back to this project and keep working on it without having to retrain the network."
      ]
    },
    {
      "metadata": {
        "id": "EpjlttmLf9_b",
        "colab_type": "code",
        "colab": {}
      },
      "cell_type": "code",
      "source": [
        "# TODO: Write a function that loads a checkpoint and rebuilds the model"
      ],
      "execution_count": 0,
      "outputs": []
    },
    {
      "metadata": {
        "id": "27rLUdP7f9_f",
        "colab_type": "text"
      },
      "cell_type": "markdown",
      "source": [
        "# Inference for classification\n",
        "\n",
        "Now you'll write a function to use a trained network for inference. That is, you'll pass an image into the network and predict the class of the flower in the image. Write a function called `predict` that takes an image and a model, then returns the top $K$ most likely classes along with the probabilities. It should look like \n",
        "\n",
        "```python\n",
        "probs, classes = predict(image_path, model)\n",
        "print(probs)\n",
        "print(classes)\n",
        "> [ 0.01558163  0.01541934  0.01452626  0.01443549  0.01407339]\n",
        "> ['70', '3', '45', '62', '55']\n",
        "```\n",
        "\n",
        "First you'll need to handle processing the input image such that it can be used in your network. \n",
        "\n",
        "## Image Preprocessing\n",
        "\n",
        "You'll want to use `PIL` to load the image ([documentation](https://pillow.readthedocs.io/en/latest/reference/Image.html)). It's best to write a function that preprocesses the image so it can be used as input for the model. This function should process the images in the same manner used for training. \n",
        "\n",
        "First, resize the images where the shortest side is 256 pixels, keeping the aspect ratio. This can be done with the [`thumbnail`](http://pillow.readthedocs.io/en/3.1.x/reference/Image.html#PIL.Image.Image.thumbnail) or [`resize`](http://pillow.readthedocs.io/en/3.1.x/reference/Image.html#PIL.Image.Image.thumbnail) methods. Then you'll need to crop out the center 224x224 portion of the image.\n",
        "\n",
        "Color channels of images are typically encoded as integers 0-255, but the model expected floats 0-1. You'll need to convert the values. It's easiest with a Numpy array, which you can get from a PIL image like so `np_image = np.array(pil_image)`.\n",
        "\n",
        "As before, the network expects the images to be normalized in a specific way. For the means, it's `[0.485, 0.456, 0.406]` and for the standard deviations `[0.229, 0.224, 0.225]`. You'll want to subtract the means from each color channel, then divide by the standard deviation. \n",
        "\n",
        "And finally, PyTorch expects the color channel to be the first dimension but it's the third dimension in the PIL image and Numpy array. You can reorder dimensions using [`ndarray.transpose`](https://docs.scipy.org/doc/numpy-1.13.0/reference/generated/numpy.ndarray.transpose.html). The color channel needs to be first and retain the order of the other two dimensions."
      ]
    },
    {
      "metadata": {
        "id": "zhh5QdaRf9_h",
        "colab_type": "code",
        "colab": {}
      },
      "cell_type": "code",
      "source": [
        "def process_image(image):\n",
        "    ''' Scales, crops, and normalizes a PIL image for a PyTorch model,\n",
        "        returns an Numpy array\n",
        "    '''\n",
        "    \n",
        "    # TODO: Process a PIL image for use in a PyTorch model"
      ],
      "execution_count": 0,
      "outputs": []
    },
    {
      "metadata": {
        "id": "DCeoU18If9_m",
        "colab_type": "text"
      },
      "cell_type": "markdown",
      "source": [
        "To check your work, the function below converts a PyTorch tensor and displays it in the notebook. If your `process_image` function works, running the output through this function should return the original image (except for the cropped out portions)."
      ]
    },
    {
      "metadata": {
        "id": "kgCtcbB1f9_m",
        "colab_type": "code",
        "colab": {}
      },
      "cell_type": "code",
      "source": [
        "def imshow(image, ax=None, title=None):\n",
        "    \"\"\"Imshow for Tensor.\"\"\"\n",
        "    if ax is None:\n",
        "        fig, ax = plt.subplots()\n",
        "    \n",
        "    # PyTorch tensors assume the color channel is the first dimension\n",
        "    # but matplotlib assumes is the third dimension\n",
        "    image = image.numpy().transpose((1, 2, 0))\n",
        "    \n",
        "    # Undo preprocessing\n",
        "    mean = np.array([0.485, 0.456, 0.406])\n",
        "    std = np.array([0.229, 0.224, 0.225])\n",
        "    image = std * image + mean\n",
        "    \n",
        "    # Image needs to be clipped between 0 and 1 or it looks like noise when displayed\n",
        "    image = np.clip(image, 0, 1)\n",
        "    \n",
        "    ax.imshow(image)\n",
        "    \n",
        "    return ax"
      ],
      "execution_count": 0,
      "outputs": []
    },
    {
      "metadata": {
        "id": "OTPiUpDof9_o",
        "colab_type": "text"
      },
      "cell_type": "markdown",
      "source": [
        "## Class Prediction\n",
        "\n",
        "Once you can get images in the correct format, it's time to write a function for making predictions with your model. A common practice is to predict the top 5 or so (usually called top-$K$) most probable classes. You'll want to calculate the class probabilities then find the $K$ largest values.\n",
        "\n",
        "To get the top $K$ largest values in a tensor use [`x.topk(k)`](http://pytorch.org/docs/master/torch.html#torch.topk). This method returns both the highest `k` probabilities and the indices of those probabilities corresponding to the classes. You need to convert from these indices to the actual class labels using `class_to_idx` which hopefully you added to the model or from an `ImageFolder` you used to load the data ([see here](#Save-the-checkpoint)). Make sure to invert the dictionary so you get a mapping from index to class as well.\n",
        "\n",
        "Again, this method should take a path to an image and a model checkpoint, then return the probabilities and classes.\n",
        "\n",
        "```python\n",
        "probs, classes = predict(image_path, model)\n",
        "print(probs)\n",
        "print(classes)\n",
        "> [ 0.01558163  0.01541934  0.01452626  0.01443549  0.01407339]\n",
        "> ['70', '3', '45', '62', '55']\n",
        "```"
      ]
    },
    {
      "metadata": {
        "id": "tSPGtFl9f9_o",
        "colab_type": "code",
        "colab": {}
      },
      "cell_type": "code",
      "source": [
        "def predict(image_path, model, topk=5):\n",
        "    ''' Predict the class (or classes) of an image using a trained deep learning model.\n",
        "    '''\n",
        "    \n",
        "    # TODO: Implement the code to predict the class from an image file"
      ],
      "execution_count": 0,
      "outputs": []
    },
    {
      "metadata": {
        "id": "ZWkn6xijf9_r",
        "colab_type": "text"
      },
      "cell_type": "markdown",
      "source": [
        "## Sanity Checking\n",
        "\n",
        "Now that you can use a trained model for predictions, check to make sure it makes sense. Even if the validation accuracy is high, it's always good to check that there aren't obvious bugs. Use `matplotlib` to plot the probabilities for the top 5 classes as a bar graph, along with the input image. It should look like this:\n",
        "\n",
        "<img src='assets/inference_example.png' width=300px>\n",
        "\n",
        "You can convert from the class integer encoding to actual flower names with the `cat_to_name.json` file (should have been loaded earlier in the notebook). To show a PyTorch tensor as an image, use the `imshow` function defined above."
      ]
    },
    {
      "metadata": {
        "id": "KZGihbv0f9_r",
        "colab_type": "code",
        "colab": {}
      },
      "cell_type": "code",
      "source": [
        "# TODO: Display an image along with the top 5 classes"
      ],
      "execution_count": 0,
      "outputs": []
    },
    {
      "metadata": {
        "id": "96nwwqXUqu6z",
        "colab_type": "code",
        "colab": {}
      },
      "cell_type": "code",
      "source": [
        ""
      ],
      "execution_count": 0,
      "outputs": []
    }
  ]
}